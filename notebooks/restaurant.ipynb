{
 "cells": [
  {
   "cell_type": "code",
   "execution_count": 49,
   "metadata": {},
   "outputs": [],
   "source": [
    "%%capture\n",
    "%load_ext autoreload\n",
    "%autoreload 2\n",
    "\n",
    "import os\n",
    "import sys\n",
    "module_path = os.path.abspath(os.path.join('..', 'code'))\n",
    "if module_path not in sys.path:\n",
    "    sys.path.append(module_path)"
   ]
  },
  {
   "cell_type": "code",
   "execution_count": 50,
   "metadata": {},
   "outputs": [],
   "source": [
    "import pandas as pd\n",
    "import numpy as np \n",
    "import code.utils as utils"
   ]
  },
  {
   "cell_type": "code",
   "execution_count": 51,
   "metadata": {},
   "outputs": [],
   "source": [
    "df = pd.read_csv('https://raw.githubusercontent.com/m4thfr34k/restaurant/master/data/raw/Restaurants_in_Wake_County.csv')"
   ]
  },
  {
   "cell_type": "code",
   "execution_count": 52,
   "metadata": {},
   "outputs": [
    {
     "data": {
      "text/html": [
       "<div>\n",
       "<style scoped>\n",
       "    .dataframe tbody tr th:only-of-type {\n",
       "        vertical-align: middle;\n",
       "    }\n",
       "\n",
       "    .dataframe tbody tr th {\n",
       "        vertical-align: top;\n",
       "    }\n",
       "\n",
       "    .dataframe thead th {\n",
       "        text-align: right;\n",
       "    }\n",
       "</style>\n",
       "<table border=\"1\" class=\"dataframe\">\n",
       "  <thead>\n",
       "    <tr style=\"text-align: right;\">\n",
       "      <th></th>\n",
       "      <th>OBJECTID</th>\n",
       "      <th>HSISID</th>\n",
       "      <th>NAME</th>\n",
       "      <th>ADDRESS1</th>\n",
       "      <th>ADDRESS2</th>\n",
       "      <th>CITY</th>\n",
       "      <th>STATE</th>\n",
       "      <th>POSTALCODE</th>\n",
       "      <th>PHONENUMBER</th>\n",
       "      <th>RESTAURANTOPENDATE</th>\n",
       "      <th>FACILITYTYPE</th>\n",
       "      <th>PERMITID</th>\n",
       "      <th>X</th>\n",
       "      <th>Y</th>\n",
       "      <th>GEOCODESTATUS</th>\n",
       "      <th>SHAPE</th>\n",
       "    </tr>\n",
       "  </thead>\n",
       "  <tbody>\n",
       "    <tr>\n",
       "      <th>1</th>\n",
       "      <td>3455145</td>\n",
       "      <td>4092010618</td>\n",
       "      <td>Roast Grill</td>\n",
       "      <td>7 S WEST ST</td>\n",
       "      <td>NaN</td>\n",
       "      <td>RALEIGH</td>\n",
       "      <td>NC</td>\n",
       "      <td>27603-1831</td>\n",
       "      <td>(919) 832-8292</td>\n",
       "      <td>1991/04/22 04:00:00+00</td>\n",
       "      <td>Restaurant</td>\n",
       "      <td>16</td>\n",
       "      <td>-78.645643</td>\n",
       "      <td>35.780231</td>\n",
       "      <td>M</td>\n",
       "      <td>NaN</td>\n",
       "    </tr>\n",
       "  </tbody>\n",
       "</table>\n",
       "</div>"
      ],
      "text/plain": [
       "   OBJECTID      HSISID         NAME      ADDRESS1 ADDRESS2     CITY STATE  \\\n",
       "1   3455145  4092010618  Roast Grill  7 S WEST ST       NaN  RALEIGH    NC   \n",
       "\n",
       "   POSTALCODE     PHONENUMBER      RESTAURANTOPENDATE FACILITYTYPE  PERMITID  \\\n",
       "1  27603-1831  (919) 832-8292  1991/04/22 04:00:00+00   Restaurant        16   \n",
       "\n",
       "           X          Y GEOCODESTATUS  SHAPE  \n",
       "1 -78.645643  35.780231             M    NaN  "
      ]
     },
     "execution_count": 52,
     "metadata": {},
     "output_type": "execute_result"
    }
   ],
   "source": [
    "df.head()\n",
    "df_business_id = df[df['OBJECTID'] == 3455145]\n",
    "df_business_id.head()"
   ]
  }
 ],
 "metadata": {
  "kernelspec": {
   "display_name": "Python 3 (ipykernel)",
   "language": "python",
   "name": "python3"
  },
  "language_info": {
   "codemirror_mode": {
    "name": "ipython",
    "version": 3
   },
   "file_extension": ".py",
   "mimetype": "text/x-python",
   "name": "python",
   "nbconvert_exporter": "python",
   "pygments_lexer": "ipython3",
   "version": "3.11.1"
  },
  "orig_nbformat": 4
 },
 "nbformat": 4,
 "nbformat_minor": 2
}
