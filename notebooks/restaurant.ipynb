{
 "cells": [
  {
   "cell_type": "code",
   "execution_count": null,
   "metadata": {},
   "outputs": [],
   "source": [
    "%%capture\n",
    "%load_ext autoreload\n",
    "%autoreload 2\n",
    "\n",
    "import os\n",
    "import sys\n",
    "module_path = os.path.abspath(os.path.join('..', 'code'))\n",
    "if module_path not in sys.path:\n",
    "    sys.path.append(module_path)"
   ]
  },
  {
   "cell_type": "code",
   "execution_count": null,
   "metadata": {},
   "outputs": [],
   "source": [
    "import pandas as pd\n",
    "import numpy as np \n",
    "#import code.utils as utils"
   ]
  },
  {
   "cell_type": "code",
   "execution_count": null,
   "metadata": {},
   "outputs": [],
   "source": [
    "%%time\n",
    "df_restaurants = pd.read_csv('https://raw.githubusercontent.com/m4thfr34k/restaurant/master/data/raw/Restaurants_in_Wake_County.csv')\n",
    "df_inspections = pd.read_csv('https://raw.githubusercontent.com/m4thfr34k/restaurant/master/data/raw/Food_Inspections.csv')\n",
    "\n",
    "violations_url = 'https://shdw-drive.genesysgo.net/Ey32mKPVM27bBS4QEytWMpiQdkZ5nmzXfKhrbD2Y77hD/Food_Inspection_Violations.csv'\n",
    "parse_dates = [\"INSPECTDATE\"]\n",
    "df_violations = pd.read_csv(violations_url, \n",
    "                            dtype={\"OBJECTID\":str, \"HSISID\":str, \"INSPECTDATE\":str, \"CATEGORY\":str,\n",
    "                                   \"STATECODE\":str, \"CRITICAL\":str, \"QUESTIONNO\":int, \"VIOLATIONCODE\":str,\n",
    "                                   \"SEVERITY\":str, \"SHORTDESC\":str, \"INSPECTEDBY\":str, \"COMMENTS\":str,\n",
    "                                   \"POINTVALUE\":float, \"OBSERVATIONTYPE\":str, \"VIOLATIONTYPE\":str,\n",
    "                                   \"CDCRISKFACTOR\":str, \"CDCDATAITEM\":str, \"PERMITID\":str\n",
    "                                   },\n",
    "                            parse_dates=parse_dates\n",
    "                            ).replace(np.nan, 0)\n",
    "df_violations = df_violations[df_violations['INSPECTDATE'] >= '2023/05/01 00:00:00+00']"
   ]
  },
  {
   "cell_type": "code",
   "execution_count": null,
   "metadata": {},
   "outputs": [],
   "source": [
    "df_violations = df_violations.pivot_table(index='HSISID', columns=['QUESTIONNO'], \n",
    "                                          values='POINTVALUE', aggfunc=np.sum).replace(np.nan, 0).sort_index().sort_index(axis = 1)\n",
    "print(df_violations.head(25))"
   ]
  },
  {
   "cell_type": "code",
   "execution_count": null,
   "metadata": {},
   "outputs": [],
   "source": [
    "# TODO Merge the restaurant and violations df's"
   ]
  }
 ],
 "metadata": {
  "kernelspec": {
   "display_name": "Python 3 (ipykernel)",
   "language": "python",
   "name": "python3"
  },
  "language_info": {
   "codemirror_mode": {
    "name": "ipython",
    "version": 3
   },
   "file_extension": ".py",
   "mimetype": "text/x-python",
   "name": "python",
   "nbconvert_exporter": "python",
   "pygments_lexer": "ipython3",
   "version": "3.11.1"
  },
  "orig_nbformat": 4
 },
 "nbformat": 4,
 "nbformat_minor": 2
}
