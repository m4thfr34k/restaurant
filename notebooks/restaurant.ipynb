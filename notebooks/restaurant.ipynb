{
 "cells": [
  {
   "cell_type": "code",
   "execution_count": 53,
   "metadata": {},
   "outputs": [],
   "source": [
    "%%capture\n",
    "%load_ext autoreload\n",
    "%autoreload 2\n",
    "\n",
    "import os\n",
    "import sys\n",
    "module_path = os.path.abspath(os.path.join('..', 'code'))\n",
    "if module_path not in sys.path:\n",
    "    sys.path.append(module_path)"
   ]
  },
  {
   "cell_type": "code",
   "execution_count": 54,
   "metadata": {},
   "outputs": [],
   "source": [
    "import pandas as pd\n",
    "import numpy as np \n",
    "import code.utils as utils"
   ]
  },
  {
   "cell_type": "code",
   "execution_count": 55,
   "metadata": {},
   "outputs": [],
   "source": [
    "df_restaurants = pd.read_csv('https://raw.githubusercontent.com/m4thfr34k/restaurant/master/data/raw/Restaurants_in_Wake_County.csv')\n",
    "df_inspections = pd.read_csv('https://raw.githubusercontent.com/m4thfr34k/restaurant/master/data/raw/Food_Inspections.csv')"
   ]
  },
  {
   "cell_type": "code",
   "execution_count": 56,
   "metadata": {},
   "outputs": [
    {
     "data": {
      "text/html": [
       "<div>\n",
       "<style scoped>\n",
       "    .dataframe tbody tr th:only-of-type {\n",
       "        vertical-align: middle;\n",
       "    }\n",
       "\n",
       "    .dataframe tbody tr th {\n",
       "        vertical-align: top;\n",
       "    }\n",
       "\n",
       "    .dataframe thead th {\n",
       "        text-align: right;\n",
       "    }\n",
       "</style>\n",
       "<table border=\"1\" class=\"dataframe\">\n",
       "  <thead>\n",
       "    <tr style=\"text-align: right;\">\n",
       "      <th></th>\n",
       "      <th>OBJECTID</th>\n",
       "      <th>HSISID</th>\n",
       "      <th>SCORE</th>\n",
       "      <th>DATE_</th>\n",
       "      <th>DESCRIPTION</th>\n",
       "      <th>TYPE</th>\n",
       "      <th>INSPECTOR</th>\n",
       "      <th>PERMITID</th>\n",
       "    </tr>\n",
       "  </thead>\n",
       "  <tbody>\n",
       "    <tr>\n",
       "      <th>0</th>\n",
       "      <td>42894390</td>\n",
       "      <td>4092017542</td>\n",
       "      <td>94.5</td>\n",
       "      <td>2017/04/07 04:00:00+00</td>\n",
       "      <td>Inspection conducted by Joshua Volkan, supervi...</td>\n",
       "      <td>Inspection</td>\n",
       "      <td>Anne-Kathrin Bartoli</td>\n",
       "      <td>18439</td>\n",
       "    </tr>\n",
       "    <tr>\n",
       "      <th>1</th>\n",
       "      <td>42894391</td>\n",
       "      <td>4092017542</td>\n",
       "      <td>92.0</td>\n",
       "      <td>2017/11/08 05:00:00+00</td>\n",
       "      <td>manager owns two deep chest freezers that are ...</td>\n",
       "      <td>Inspection</td>\n",
       "      <td>Laura McNeill</td>\n",
       "      <td>18439</td>\n",
       "    </tr>\n",
       "    <tr>\n",
       "      <th>2</th>\n",
       "      <td>42894392</td>\n",
       "      <td>4092017542</td>\n",
       "      <td>95.0</td>\n",
       "      <td>2018/03/23 04:00:00+00</td>\n",
       "      <td>NaN</td>\n",
       "      <td>Inspection</td>\n",
       "      <td>Laura McNeill</td>\n",
       "      <td>18439</td>\n",
       "    </tr>\n",
       "    <tr>\n",
       "      <th>3</th>\n",
       "      <td>42894393</td>\n",
       "      <td>4092017542</td>\n",
       "      <td>93.5</td>\n",
       "      <td>2018/09/07 04:00:00+00</td>\n",
       "      <td>*NOTICE* EFFECTIVE JANUARY 1, 2019, THE NC FOO...</td>\n",
       "      <td>Inspection</td>\n",
       "      <td>Laura McNeill</td>\n",
       "      <td>18439</td>\n",
       "    </tr>\n",
       "    <tr>\n",
       "      <th>4</th>\n",
       "      <td>42894394</td>\n",
       "      <td>4092017542</td>\n",
       "      <td>93.0</td>\n",
       "      <td>2019/04/04 04:00:00+00</td>\n",
       "      <td>*NOTICE* AS OF JANUARY 1, 2019, THE NC FOOD CO...</td>\n",
       "      <td>Inspection</td>\n",
       "      <td>Joanne Rutkofske</td>\n",
       "      <td>18439</td>\n",
       "    </tr>\n",
       "  </tbody>\n",
       "</table>\n",
       "</div>"
      ],
      "text/plain": [
       "   OBJECTID      HSISID  SCORE                   DATE_  \\\n",
       "0  42894390  4092017542   94.5  2017/04/07 04:00:00+00   \n",
       "1  42894391  4092017542   92.0  2017/11/08 05:00:00+00   \n",
       "2  42894392  4092017542   95.0  2018/03/23 04:00:00+00   \n",
       "3  42894393  4092017542   93.5  2018/09/07 04:00:00+00   \n",
       "4  42894394  4092017542   93.0  2019/04/04 04:00:00+00   \n",
       "\n",
       "                                         DESCRIPTION        TYPE  \\\n",
       "0  Inspection conducted by Joshua Volkan, supervi...  Inspection   \n",
       "1  manager owns two deep chest freezers that are ...  Inspection   \n",
       "2                                                NaN  Inspection   \n",
       "3  *NOTICE* EFFECTIVE JANUARY 1, 2019, THE NC FOO...  Inspection   \n",
       "4  *NOTICE* AS OF JANUARY 1, 2019, THE NC FOOD CO...  Inspection   \n",
       "\n",
       "              INSPECTOR  PERMITID  \n",
       "0  Anne-Kathrin Bartoli     18439  \n",
       "1         Laura McNeill     18439  \n",
       "2         Laura McNeill     18439  \n",
       "3         Laura McNeill     18439  \n",
       "4      Joanne Rutkofske     18439  "
      ]
     },
     "execution_count": 56,
     "metadata": {},
     "output_type": "execute_result"
    }
   ],
   "source": [
    "df_inspections.head()\n",
    "#df_business_id = df_restaurants[df_restaurants['OBJECTID'] == 3455145]\n",
    "#df_business_id.head()"
   ]
  }
 ],
 "metadata": {
  "kernelspec": {
   "display_name": "Python 3 (ipykernel)",
   "language": "python",
   "name": "python3"
  },
  "language_info": {
   "codemirror_mode": {
    "name": "ipython",
    "version": 3
   },
   "file_extension": ".py",
   "mimetype": "text/x-python",
   "name": "python",
   "nbconvert_exporter": "python",
   "pygments_lexer": "ipython3",
   "version": "3.11.1"
  },
  "orig_nbformat": 4
 },
 "nbformat": 4,
 "nbformat_minor": 2
}
